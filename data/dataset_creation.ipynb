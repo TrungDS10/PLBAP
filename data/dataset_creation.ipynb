{
 "cells": [
  {
   "cell_type": "code",
   "execution_count": 4,
   "id": "096cf777",
   "metadata": {},
   "outputs": [
    {
     "data": {
      "application/vnd.jupyter.widget-view+json": {
       "model_id": "86066b3f7ce740db8b3e32128a282cec",
       "version_major": 2,
       "version_minor": 0
      },
      "text/plain": [
       "README.md:   0%|          | 0.00/2.88k [00:00<?, ?B/s]"
      ]
     },
     "metadata": {},
     "output_type": "display_data"
    },
    {
     "name": "stderr",
     "output_type": "stream",
     "text": [
      "c:\\Users\\tnguy122\\AppData\\Local\\anaconda3\\Lib\\site-packages\\huggingface_hub\\file_download.py:144: UserWarning: `huggingface_hub` cache-system uses symlinks by default to efficiently store duplicated files but your machine does not support them in C:\\Users\\tnguy122\\.cache\\huggingface\\hub\\datasets--jglaser--binding_affinity. Caching files will still work but in a degraded version that might require more space on your disk. This warning can be disabled by setting the `HF_HUB_DISABLE_SYMLINKS_WARNING` environment variable. For more details, see https://huggingface.co/docs/huggingface_hub/how-to-cache#limitations.\n",
      "To support symlinks on Windows, you either need to activate Developer Mode or to run Python as an administrator. In order to activate developer mode, see this article: https://docs.microsoft.com/en-us/windows/apps/get-started/enable-your-device-for-development\n",
      "  warnings.warn(message)\n"
     ]
    },
    {
     "data": {
      "application/vnd.jupyter.widget-view+json": {
       "model_id": "f5e9c6b9b36c43a0a92db20c2519b598",
       "version_major": 2,
       "version_minor": 0
      },
      "text/plain": [
       "binding_affinity.py:   0%|          | 0.00/6.10k [00:00<?, ?B/s]"
      ]
     },
     "metadata": {},
     "output_type": "display_data"
    },
    {
     "data": {
      "application/vnd.jupyter.widget-view+json": {
       "model_id": "bace9e63ad804423a110c7e7fa3ff1d8",
       "version_major": 2,
       "version_minor": 0
      },
      "text/plain": [
       "0000.parquet:   0%|          | 0.00/141M [00:00<?, ?B/s]"
      ]
     },
     "metadata": {},
     "output_type": "display_data"
    },
    {
     "data": {
      "application/vnd.jupyter.widget-view+json": {
       "model_id": "e9c00d952a9741f8b989417ba89357c6",
       "version_major": 2,
       "version_minor": 0
      },
      "text/plain": [
       "0000.parquet:   0%|          | 0.00/141M [00:00<?, ?B/s]"
      ]
     },
     "metadata": {},
     "output_type": "display_data"
    },
    {
     "data": {
      "application/vnd.jupyter.widget-view+json": {
       "model_id": "0a0170f2db80409b8419f766725f4835",
       "version_major": 2,
       "version_minor": 0
      },
      "text/plain": [
       "0000.parquet:   0%|          | 0.00/92.7k [00:00<?, ?B/s]"
      ]
     },
     "metadata": {},
     "output_type": "display_data"
    },
    {
     "data": {
      "application/vnd.jupyter.widget-view+json": {
       "model_id": "1d2e341798804f2d97ecd7ff6a588b53",
       "version_major": 2,
       "version_minor": 0
      },
      "text/plain": [
       "Generating train split:   0%|          | 0/1836729 [00:00<?, ? examples/s]"
      ]
     },
     "metadata": {},
     "output_type": "display_data"
    },
    {
     "data": {
      "application/vnd.jupyter.widget-view+json": {
       "model_id": "996d365b696f45f392c793855a85326f",
       "version_major": 2,
       "version_minor": 0
      },
      "text/plain": [
       "Generating no_kras split:   0%|          | 0/1836326 [00:00<?, ? examples/s]"
      ]
     },
     "metadata": {},
     "output_type": "display_data"
    },
    {
     "data": {
      "application/vnd.jupyter.widget-view+json": {
       "model_id": "68df0d95d9d64cfe9d312da7a81fb06f",
       "version_major": 2,
       "version_minor": 0
      },
      "text/plain": [
       "Generating covalent split:   0%|          | 0/346 [00:00<?, ? examples/s]"
      ]
     },
     "metadata": {},
     "output_type": "display_data"
    }
   ],
   "source": [
    "from datasets import load_dataset\n",
    "\n",
    "original_dataset = load_dataset(\"jglaser/binding_affinity\", split='train') # Or another appropriate split"
   ]
  },
  {
   "cell_type": "code",
   "execution_count": 5,
   "id": "66b307dc",
   "metadata": {},
   "outputs": [],
   "source": [
    "subset_100k = original_dataset.select(range(100000))"
   ]
  },
  {
   "cell_type": "code",
   "execution_count": null,
   "id": "27cd12be",
   "metadata": {},
   "outputs": [
    {
     "name": "stdout",
     "output_type": "stream",
     "text": [
      "Loading original dataset from Hugging Face...\n",
      "Selecting the first 100,000 entries...\n",
      "Selected 100000 entries.\n",
      "Saved the first 100000 entries to binding_affinity_100k_raw.csv\n"
     ]
    }
   ],
   "source": [
    "import pandas as pd\n",
    "from datasets import load_dataset\n",
    "\n",
    "print(\"Loading original dataset from Hugging Face...\")\n",
    "try:\n",
    "    # Try loading a specific split if it's very large, or the full dataset if manageable\n",
    "    original_dataset = load_dataset(\"jglaser/binding_affinity\", split='train', streaming=False) # streaming=False to allow select\n",
    "except Exception as e:\n",
    "    print(f\"Could not load 'train' split directly or an error occurred: {e}\")\n",
    "    print(\"Attempting to load the full dataset and then select (this might take time/memory).\")\n",
    "    original_dataset = load_dataset(\"jglaser/binding_affinity\")\n",
    "\n",
    "\n",
    "print(\"Selecting the first 100,000 entries...\")\n",
    "\n",
    "num_entries_to_select = min(100000, len(original_dataset))\n",
    "subset_100k = original_dataset.select(range(num_entries_to_select))\n",
    "\n",
    "print(f\"Selected {len(subset_100k)} entries.\")\n",
    "\n",
    "# Extract data and create a pandas DataFrame\n",
    "data_for_df = {\n",
    "    'protein_sequence': [item['seq'] for item in subset_100k],\n",
    "    'smiles': [item['smiles'] for item in subset_100k],\n",
    "    'affinity_pkd': [item['affinity'] for item in subset_100k]\n",
    "}\n",
    "df_100k = pd.DataFrame(data_for_df)\n",
    "\n",
    "# Save to CSV\n",
    "output_csv_path = \"binding_affinity_100k_raw.csv\"\n",
    "df_100k.to_csv(output_csv_path, index=False)\n",
    "print(f\"Saved the first {len(df_100k)} entries to {output_csv_path}\")"
   ]
  },
  {
   "cell_type": "code",
   "execution_count": null,
   "id": "74db2f00",
   "metadata": {},
   "outputs": [],
   "source": []
  }
 ],
 "metadata": {
  "kernelspec": {
   "display_name": "base",
   "language": "python",
   "name": "python3"
  },
  "language_info": {
   "codemirror_mode": {
    "name": "ipython",
    "version": 3
   },
   "file_extension": ".py",
   "mimetype": "text/x-python",
   "name": "python",
   "nbconvert_exporter": "python",
   "pygments_lexer": "ipython3",
   "version": "3.12.4"
  }
 },
 "nbformat": 4,
 "nbformat_minor": 5
}
